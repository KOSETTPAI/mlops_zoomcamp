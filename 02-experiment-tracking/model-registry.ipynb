{
 "cells": [
  {
   "cell_type": "code",
   "execution_count": 3,
   "metadata": {},
   "outputs": [],
   "source": [
    "from mlflow.tracking import MlflowClient\n",
    "\n",
    "\n",
    "MLFLOW_TRACKING_URI = \"sqlite:///mlflow.db\""
   ]
  },
  {
   "cell_type": "code",
   "execution_count": 4,
   "metadata": {},
   "outputs": [],
   "source": [
    "client = MlflowClient(tracking_uri=MLFLOW_TRACKING_URI)"
   ]
  },
  {
   "cell_type": "code",
   "execution_count": 5,
   "metadata": {},
   "outputs": [
    {
     "name": "stdout",
     "output_type": "stream",
     "text": [
      "<Experiment: artifact_location='/workspaces/mlops_zoomcamp/02-experiment-tracking/mlruns/1', creation_time=1733127854674, experiment_id='1', last_update_time=1733127854674, lifecycle_stage='active', name='nyc-taxi-experiment', tags={}>\n",
      "<Experiment: artifact_location='mlflow-artifacts:/0', creation_time=1733127377347, experiment_id='0', last_update_time=1733127377347, lifecycle_stage='active', name='Default', tags={}>\n"
     ]
    }
   ],
   "source": [
    "experiments = client.search_experiments()\n",
    "for exp in experiments:\n",
    "    print(exp)"
   ]
  },
  {
   "cell_type": "code",
   "execution_count": 6,
   "metadata": {},
   "outputs": [
    {
     "data": {
      "text/plain": [
       "'2'"
      ]
     },
     "execution_count": 6,
     "metadata": {},
     "output_type": "execute_result"
    }
   ],
   "source": [
    "client.create_experiment(name=\"my-cool-experiment\")"
   ]
  },
  {
   "cell_type": "code",
   "execution_count": 7,
   "metadata": {},
   "outputs": [],
   "source": [
    "from mlflow.entities import ViewType\n",
    "\n",
    "runs = client.search_runs(\n",
    "    experiment_ids='1',\n",
    "    filter_string=\"metrics.rmse < 7\",\n",
    "    run_view_type=ViewType.ACTIVE_ONLY,\n",
    "    max_results=5,\n",
    "    order_by=[\"metrics.rmse ASC\"]\n",
    ")"
   ]
  },
  {
   "cell_type": "code",
   "execution_count": 8,
   "metadata": {},
   "outputs": [
    {
     "name": "stdout",
     "output_type": "stream",
     "text": [
      "run id: 58c8094a5c504e6ba0f9a024a982c28b, rmse: 5.4241\n",
      "run id: 32ecfc37cc4842c195a3c2257bcd6c8a, rmse: 5.4636\n",
      "run id: 61d9a191165b4daa82fb58552ffdb4f8, rmse: 5.4856\n",
      "run id: 95624d20d4674b9181f13c11b4b6343e, rmse: 5.7761\n"
     ]
    }
   ],
   "source": [
    "for run in runs:\n",
    "    print(f\"run id: {run.info.run_id}, rmse: {run.data.metrics['rmse']:.4f}\")"
   ]
  },
  {
   "cell_type": "code",
   "execution_count": 9,
   "metadata": {},
   "outputs": [],
   "source": [
    "import mlflow\n",
    "\n",
    "mlflow.set_tracking_uri(MLFLOW_TRACKING_URI)"
   ]
  },
  {
   "cell_type": "code",
   "execution_count": 10,
   "metadata": {},
   "outputs": [
    {
     "name": "stderr",
     "output_type": "stream",
     "text": [
      "Registered model 'nyc-taxi-regressor' already exists. Creating a new version of this model...\n",
      "Created version '2' of model 'nyc-taxi-regressor'.\n"
     ]
    },
    {
     "data": {
      "text/plain": [
       "<ModelVersion: aliases=[], creation_timestamp=1733130680918, current_stage='None', description=None, last_updated_timestamp=1733130680918, name='nyc-taxi-regressor', run_id='58c8094a5c504e6ba0f9a024a982c28b', run_link=None, source='/workspaces/mlops_zoomcamp/02-experiment-tracking/mlruns/1/58c8094a5c504e6ba0f9a024a982c28b/artifacts/model', status='READY', status_message=None, tags={}, user_id=None, version=2>"
      ]
     },
     "execution_count": 10,
     "metadata": {},
     "output_type": "execute_result"
    }
   ],
   "source": [
    "run_id = \"58c8094a5c504e6ba0f9a024a982c28b\"\n",
    "model_uri = f\"runs:/{run_id}/model\"\n",
    "mlflow.register_model(model_uri=model_uri, name=\"nyc-taxi-regressor\")"
   ]
  },
  {
   "cell_type": "code",
   "execution_count": 12,
   "metadata": {},
   "outputs": [
    {
     "name": "stdout",
     "output_type": "stream",
     "text": [
      "Version: 2, Stage: None\n"
     ]
    }
   ],
   "source": [
    "client = MlflowClient()\n",
    "model_name = \"nyc-taxi-regressor\"\n",
    "\n",
    "# Search for all registered models\n",
    "registered_models = client.search_registered_models(f\"name='{model_name}'\")\n",
    "for model in registered_models:\n",
    "    for version in model.latest_versions:\n",
    "        print(f\"Version: {version.version}, Stage: {version.current_stage}\")"
   ]
  },
  {
   "cell_type": "code",
   "execution_count": null,
   "metadata": {},
   "outputs": [
    {
     "name": "stdout",
     "output_type": "stream",
     "text": [
      "Model version 2 tagged with lifecycle_stage: Staging\n"
     ]
    }
   ],
   "source": [
    "# Old version and we will get a warning if we use this way so please use below.\n",
    "model_version = 2\n",
    "new_stage = \"Staging\"\n",
    "\n",
    "client.set_model_version_tag(\n",
    "    name=model_name,\n",
    "    version=model_version,\n",
    "    key=\"lifecycle_stage\",\n",
    "    value=new_stage\n",
    ")\n",
    "print(f\"Model version {model_version} tagged with lifecycle_stage: {new_stage}\")"
   ]
  },
  {
   "cell_type": "code",
   "execution_count": 15,
   "metadata": {},
   "outputs": [
    {
     "name": "stdout",
     "output_type": "stream",
     "text": [
      "Version: 1, Stage: None\n",
      "Version: 2, Stage: Staging\n"
     ]
    }
   ],
   "source": [
    "# Search for all registered models\n",
    "registered_models = client.search_registered_models(f\"name='{model_name}'\")\n",
    "for model in registered_models:\n",
    "    for version in model.latest_versions:\n",
    "        print(f\"Version: {version.version}, Stage: {version.current_stage}\")"
   ]
  },
  {
   "cell_type": "code",
   "execution_count": 16,
   "metadata": {},
   "outputs": [
    {
     "data": {
      "text/plain": [
       "<ModelVersion: aliases=[], creation_timestamp=1733130680918, current_stage='Staging', description='The model version 2 was transitioned to Staging on 2024-12-02', last_updated_timestamp=1733131377672, name='nyc-taxi-regressor', run_id='58c8094a5c504e6ba0f9a024a982c28b', run_link=None, source='/workspaces/mlops_zoomcamp/02-experiment-tracking/mlruns/1/58c8094a5c504e6ba0f9a024a982c28b/artifacts/model', status='READY', status_message=None, tags={'lifecycle_stage': 'Staging'}, user_id=None, version=2>"
      ]
     },
     "execution_count": 16,
     "metadata": {},
     "output_type": "execute_result"
    }
   ],
   "source": [
    "from datetime import datetime\n",
    "\n",
    "date = datetime.today().date()\n",
    "client.update_model_version(\n",
    "    name=model_name,\n",
    "    version=model_version,\n",
    "    description=f\"The model version {model_version} was transitioned to {new_stage} on {date}\"\n",
    ")"
   ]
  },
  {
   "cell_type": "code",
   "execution_count": null,
   "metadata": {},
   "outputs": [],
   "source": []
  }
 ],
 "metadata": {
  "kernelspec": {
   "display_name": "Python 3",
   "language": "python",
   "name": "python3"
  },
  "language_info": {
   "codemirror_mode": {
    "name": "ipython",
    "version": 3
   },
   "file_extension": ".py",
   "mimetype": "text/x-python",
   "name": "python",
   "nbconvert_exporter": "python",
   "pygments_lexer": "ipython3",
   "version": "3.9.20"
  }
 },
 "nbformat": 4,
 "nbformat_minor": 2
}
